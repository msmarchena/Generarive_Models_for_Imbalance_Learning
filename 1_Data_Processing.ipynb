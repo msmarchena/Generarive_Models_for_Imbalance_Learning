{
 "cells": [
  {
   "cell_type": "markdown",
   "metadata": {
    "colab_type": "text",
    "id": "5Melnvxdx37D"
   },
   "source": [
    "# Data Processing\n",
    "### Author: Marlene Marchena"
   ]
  },
  {
   "cell_type": "markdown",
   "metadata": {},
   "source": [
    "### Importing Libraries"
   ]
  },
  {
   "cell_type": "code",
   "execution_count": 1,
   "metadata": {
    "colab": {},
    "colab_type": "code",
    "id": "Z4MFBwqZx37M",
    "scrolled": true
   },
   "outputs": [],
   "source": [
    "#Import data manipulation libraries\n",
    "import pandas as pd\n",
    "import numpy as np\n",
    "\n",
    "#Import visualization libraries\n",
    "import matplotlib.pyplot as plt \n",
    "\n",
    "from sklearn.preprocessing import StandardScaler #MinMaxScaler\n",
    "\n",
    "from sklearn.model_selection import train_test_split\n",
    "from sklearn.inspection import permutation_importance\n",
    "\n",
    "from xgboost import XGBClassifier\n",
    "\n",
    "from sklearn.model_selection import StratifiedKFold\n",
    "\n",
    "#Outliers detection\n",
    "from sklearn.ensemble import IsolationForest\n",
    "#import seaborn as sns\n",
    "#from scipy import stats\n",
    "\n",
    "#set random seed and percentage of test data\n",
    "random_seed = 12345678\n",
    "np.random.seed(12345678)"
   ]
  },
  {
   "cell_type": "markdown",
   "metadata": {
    "colab_type": "text",
    "id": "tI56t8uWx37S"
   },
   "source": [
    "## Section 1: Dataset and data processing"
   ]
  },
  {
   "cell_type": "markdown",
   "metadata": {
    "colab_type": "text",
    "id": "6NGacdW1x37T"
   },
   "source": [
    "We are going to use credit card dataset from Kaggle, https://www.kaggle.com/mlg-ulb/creditcardfraud/home"
   ]
  },
  {
   "cell_type": "code",
   "execution_count": 2,
   "metadata": {},
   "outputs": [
    {
     "name": "stdout",
     "output_type": "stream",
     "text": [
      "(284807, 31)\n"
     ]
    }
   ],
   "source": [
    "def load_dataset():\n",
    "    file_path = \"creditcard.csv\"\n",
    "    data = pd.read_csv(file_path)\n",
    "    return data\n",
    "\n",
    "data = load_dataset()\n",
    "print(data.shape)"
   ]
  },
  {
   "cell_type": "markdown",
   "metadata": {},
   "source": [
    "### 1.1 Data Preprocessing"
   ]
  },
  {
   "cell_type": "code",
   "execution_count": 3,
   "metadata": {},
   "outputs": [
    {
     "data": {
      "text/html": [
       "<div>\n",
       "<style scoped>\n",
       "    .dataframe tbody tr th:only-of-type {\n",
       "        vertical-align: middle;\n",
       "    }\n",
       "\n",
       "    .dataframe tbody tr th {\n",
       "        vertical-align: top;\n",
       "    }\n",
       "\n",
       "    .dataframe thead th {\n",
       "        text-align: right;\n",
       "    }\n",
       "</style>\n",
       "<table border=\"1\" class=\"dataframe\">\n",
       "  <thead>\n",
       "    <tr style=\"text-align: right;\">\n",
       "      <th></th>\n",
       "      <th>Time</th>\n",
       "      <th>V1</th>\n",
       "      <th>V2</th>\n",
       "      <th>V3</th>\n",
       "      <th>V4</th>\n",
       "      <th>V5</th>\n",
       "      <th>V6</th>\n",
       "      <th>V7</th>\n",
       "      <th>V8</th>\n",
       "      <th>V9</th>\n",
       "      <th>...</th>\n",
       "      <th>V21</th>\n",
       "      <th>V22</th>\n",
       "      <th>V23</th>\n",
       "      <th>V24</th>\n",
       "      <th>V25</th>\n",
       "      <th>V26</th>\n",
       "      <th>V27</th>\n",
       "      <th>V28</th>\n",
       "      <th>Amount</th>\n",
       "      <th>Class</th>\n",
       "    </tr>\n",
       "  </thead>\n",
       "  <tbody>\n",
       "    <tr>\n",
       "      <th>count</th>\n",
       "      <td>284807.000000</td>\n",
       "      <td>2.848070e+05</td>\n",
       "      <td>2.848070e+05</td>\n",
       "      <td>2.848070e+05</td>\n",
       "      <td>2.848070e+05</td>\n",
       "      <td>2.848070e+05</td>\n",
       "      <td>2.848070e+05</td>\n",
       "      <td>2.848070e+05</td>\n",
       "      <td>2.848070e+05</td>\n",
       "      <td>2.848070e+05</td>\n",
       "      <td>...</td>\n",
       "      <td>2.848070e+05</td>\n",
       "      <td>2.848070e+05</td>\n",
       "      <td>2.848070e+05</td>\n",
       "      <td>2.848070e+05</td>\n",
       "      <td>2.848070e+05</td>\n",
       "      <td>2.848070e+05</td>\n",
       "      <td>2.848070e+05</td>\n",
       "      <td>2.848070e+05</td>\n",
       "      <td>284807.000000</td>\n",
       "      <td>284807.000000</td>\n",
       "    </tr>\n",
       "    <tr>\n",
       "      <th>mean</th>\n",
       "      <td>94813.859575</td>\n",
       "      <td>1.165980e-15</td>\n",
       "      <td>3.416908e-16</td>\n",
       "      <td>-1.373150e-15</td>\n",
       "      <td>2.086869e-15</td>\n",
       "      <td>9.604066e-16</td>\n",
       "      <td>1.490107e-15</td>\n",
       "      <td>-5.556467e-16</td>\n",
       "      <td>1.177556e-16</td>\n",
       "      <td>-2.406455e-15</td>\n",
       "      <td>...</td>\n",
       "      <td>1.656562e-16</td>\n",
       "      <td>-3.444850e-16</td>\n",
       "      <td>2.578648e-16</td>\n",
       "      <td>4.471968e-15</td>\n",
       "      <td>5.340915e-16</td>\n",
       "      <td>1.687098e-15</td>\n",
       "      <td>-3.666453e-16</td>\n",
       "      <td>-1.220404e-16</td>\n",
       "      <td>88.349619</td>\n",
       "      <td>0.001727</td>\n",
       "    </tr>\n",
       "    <tr>\n",
       "      <th>std</th>\n",
       "      <td>47488.145955</td>\n",
       "      <td>1.958696e+00</td>\n",
       "      <td>1.651309e+00</td>\n",
       "      <td>1.516255e+00</td>\n",
       "      <td>1.415869e+00</td>\n",
       "      <td>1.380247e+00</td>\n",
       "      <td>1.332271e+00</td>\n",
       "      <td>1.237094e+00</td>\n",
       "      <td>1.194353e+00</td>\n",
       "      <td>1.098632e+00</td>\n",
       "      <td>...</td>\n",
       "      <td>7.345240e-01</td>\n",
       "      <td>7.257016e-01</td>\n",
       "      <td>6.244603e-01</td>\n",
       "      <td>6.056471e-01</td>\n",
       "      <td>5.212781e-01</td>\n",
       "      <td>4.822270e-01</td>\n",
       "      <td>4.036325e-01</td>\n",
       "      <td>3.300833e-01</td>\n",
       "      <td>250.120109</td>\n",
       "      <td>0.041527</td>\n",
       "    </tr>\n",
       "    <tr>\n",
       "      <th>min</th>\n",
       "      <td>0.000000</td>\n",
       "      <td>-5.640751e+01</td>\n",
       "      <td>-7.271573e+01</td>\n",
       "      <td>-4.832559e+01</td>\n",
       "      <td>-5.683171e+00</td>\n",
       "      <td>-1.137433e+02</td>\n",
       "      <td>-2.616051e+01</td>\n",
       "      <td>-4.355724e+01</td>\n",
       "      <td>-7.321672e+01</td>\n",
       "      <td>-1.343407e+01</td>\n",
       "      <td>...</td>\n",
       "      <td>-3.483038e+01</td>\n",
       "      <td>-1.093314e+01</td>\n",
       "      <td>-4.480774e+01</td>\n",
       "      <td>-2.836627e+00</td>\n",
       "      <td>-1.029540e+01</td>\n",
       "      <td>-2.604551e+00</td>\n",
       "      <td>-2.256568e+01</td>\n",
       "      <td>-1.543008e+01</td>\n",
       "      <td>0.000000</td>\n",
       "      <td>0.000000</td>\n",
       "    </tr>\n",
       "    <tr>\n",
       "      <th>25%</th>\n",
       "      <td>54201.500000</td>\n",
       "      <td>-9.203734e-01</td>\n",
       "      <td>-5.985499e-01</td>\n",
       "      <td>-8.903648e-01</td>\n",
       "      <td>-8.486401e-01</td>\n",
       "      <td>-6.915971e-01</td>\n",
       "      <td>-7.682956e-01</td>\n",
       "      <td>-5.540759e-01</td>\n",
       "      <td>-2.086297e-01</td>\n",
       "      <td>-6.430976e-01</td>\n",
       "      <td>...</td>\n",
       "      <td>-2.283949e-01</td>\n",
       "      <td>-5.423504e-01</td>\n",
       "      <td>-1.618463e-01</td>\n",
       "      <td>-3.545861e-01</td>\n",
       "      <td>-3.171451e-01</td>\n",
       "      <td>-3.269839e-01</td>\n",
       "      <td>-7.083953e-02</td>\n",
       "      <td>-5.295979e-02</td>\n",
       "      <td>5.600000</td>\n",
       "      <td>0.000000</td>\n",
       "    </tr>\n",
       "    <tr>\n",
       "      <th>50%</th>\n",
       "      <td>84692.000000</td>\n",
       "      <td>1.810880e-02</td>\n",
       "      <td>6.548556e-02</td>\n",
       "      <td>1.798463e-01</td>\n",
       "      <td>-1.984653e-02</td>\n",
       "      <td>-5.433583e-02</td>\n",
       "      <td>-2.741871e-01</td>\n",
       "      <td>4.010308e-02</td>\n",
       "      <td>2.235804e-02</td>\n",
       "      <td>-5.142873e-02</td>\n",
       "      <td>...</td>\n",
       "      <td>-2.945017e-02</td>\n",
       "      <td>6.781943e-03</td>\n",
       "      <td>-1.119293e-02</td>\n",
       "      <td>4.097606e-02</td>\n",
       "      <td>1.659350e-02</td>\n",
       "      <td>-5.213911e-02</td>\n",
       "      <td>1.342146e-03</td>\n",
       "      <td>1.124383e-02</td>\n",
       "      <td>22.000000</td>\n",
       "      <td>0.000000</td>\n",
       "    </tr>\n",
       "    <tr>\n",
       "      <th>75%</th>\n",
       "      <td>139320.500000</td>\n",
       "      <td>1.315642e+00</td>\n",
       "      <td>8.037239e-01</td>\n",
       "      <td>1.027196e+00</td>\n",
       "      <td>7.433413e-01</td>\n",
       "      <td>6.119264e-01</td>\n",
       "      <td>3.985649e-01</td>\n",
       "      <td>5.704361e-01</td>\n",
       "      <td>3.273459e-01</td>\n",
       "      <td>5.971390e-01</td>\n",
       "      <td>...</td>\n",
       "      <td>1.863772e-01</td>\n",
       "      <td>5.285536e-01</td>\n",
       "      <td>1.476421e-01</td>\n",
       "      <td>4.395266e-01</td>\n",
       "      <td>3.507156e-01</td>\n",
       "      <td>2.409522e-01</td>\n",
       "      <td>9.104512e-02</td>\n",
       "      <td>7.827995e-02</td>\n",
       "      <td>77.165000</td>\n",
       "      <td>0.000000</td>\n",
       "    </tr>\n",
       "    <tr>\n",
       "      <th>max</th>\n",
       "      <td>172792.000000</td>\n",
       "      <td>2.454930e+00</td>\n",
       "      <td>2.205773e+01</td>\n",
       "      <td>9.382558e+00</td>\n",
       "      <td>1.687534e+01</td>\n",
       "      <td>3.480167e+01</td>\n",
       "      <td>7.330163e+01</td>\n",
       "      <td>1.205895e+02</td>\n",
       "      <td>2.000721e+01</td>\n",
       "      <td>1.559499e+01</td>\n",
       "      <td>...</td>\n",
       "      <td>2.720284e+01</td>\n",
       "      <td>1.050309e+01</td>\n",
       "      <td>2.252841e+01</td>\n",
       "      <td>4.584549e+00</td>\n",
       "      <td>7.519589e+00</td>\n",
       "      <td>3.517346e+00</td>\n",
       "      <td>3.161220e+01</td>\n",
       "      <td>3.384781e+01</td>\n",
       "      <td>25691.160000</td>\n",
       "      <td>1.000000</td>\n",
       "    </tr>\n",
       "  </tbody>\n",
       "</table>\n",
       "<p>8 rows × 31 columns</p>\n",
       "</div>"
      ],
      "text/plain": [
       "                Time            V1            V2            V3            V4  \\\n",
       "count  284807.000000  2.848070e+05  2.848070e+05  2.848070e+05  2.848070e+05   \n",
       "mean    94813.859575  1.165980e-15  3.416908e-16 -1.373150e-15  2.086869e-15   \n",
       "std     47488.145955  1.958696e+00  1.651309e+00  1.516255e+00  1.415869e+00   \n",
       "min         0.000000 -5.640751e+01 -7.271573e+01 -4.832559e+01 -5.683171e+00   \n",
       "25%     54201.500000 -9.203734e-01 -5.985499e-01 -8.903648e-01 -8.486401e-01   \n",
       "50%     84692.000000  1.810880e-02  6.548556e-02  1.798463e-01 -1.984653e-02   \n",
       "75%    139320.500000  1.315642e+00  8.037239e-01  1.027196e+00  7.433413e-01   \n",
       "max    172792.000000  2.454930e+00  2.205773e+01  9.382558e+00  1.687534e+01   \n",
       "\n",
       "                 V5            V6            V7            V8            V9  \\\n",
       "count  2.848070e+05  2.848070e+05  2.848070e+05  2.848070e+05  2.848070e+05   \n",
       "mean   9.604066e-16  1.490107e-15 -5.556467e-16  1.177556e-16 -2.406455e-15   \n",
       "std    1.380247e+00  1.332271e+00  1.237094e+00  1.194353e+00  1.098632e+00   \n",
       "min   -1.137433e+02 -2.616051e+01 -4.355724e+01 -7.321672e+01 -1.343407e+01   \n",
       "25%   -6.915971e-01 -7.682956e-01 -5.540759e-01 -2.086297e-01 -6.430976e-01   \n",
       "50%   -5.433583e-02 -2.741871e-01  4.010308e-02  2.235804e-02 -5.142873e-02   \n",
       "75%    6.119264e-01  3.985649e-01  5.704361e-01  3.273459e-01  5.971390e-01   \n",
       "max    3.480167e+01  7.330163e+01  1.205895e+02  2.000721e+01  1.559499e+01   \n",
       "\n",
       "       ...           V21           V22           V23           V24  \\\n",
       "count  ...  2.848070e+05  2.848070e+05  2.848070e+05  2.848070e+05   \n",
       "mean   ...  1.656562e-16 -3.444850e-16  2.578648e-16  4.471968e-15   \n",
       "std    ...  7.345240e-01  7.257016e-01  6.244603e-01  6.056471e-01   \n",
       "min    ... -3.483038e+01 -1.093314e+01 -4.480774e+01 -2.836627e+00   \n",
       "25%    ... -2.283949e-01 -5.423504e-01 -1.618463e-01 -3.545861e-01   \n",
       "50%    ... -2.945017e-02  6.781943e-03 -1.119293e-02  4.097606e-02   \n",
       "75%    ...  1.863772e-01  5.285536e-01  1.476421e-01  4.395266e-01   \n",
       "max    ...  2.720284e+01  1.050309e+01  2.252841e+01  4.584549e+00   \n",
       "\n",
       "                V25           V26           V27           V28         Amount  \\\n",
       "count  2.848070e+05  2.848070e+05  2.848070e+05  2.848070e+05  284807.000000   \n",
       "mean   5.340915e-16  1.687098e-15 -3.666453e-16 -1.220404e-16      88.349619   \n",
       "std    5.212781e-01  4.822270e-01  4.036325e-01  3.300833e-01     250.120109   \n",
       "min   -1.029540e+01 -2.604551e+00 -2.256568e+01 -1.543008e+01       0.000000   \n",
       "25%   -3.171451e-01 -3.269839e-01 -7.083953e-02 -5.295979e-02       5.600000   \n",
       "50%    1.659350e-02 -5.213911e-02  1.342146e-03  1.124383e-02      22.000000   \n",
       "75%    3.507156e-01  2.409522e-01  9.104512e-02  7.827995e-02      77.165000   \n",
       "max    7.519589e+00  3.517346e+00  3.161220e+01  3.384781e+01   25691.160000   \n",
       "\n",
       "               Class  \n",
       "count  284807.000000  \n",
       "mean        0.001727  \n",
       "std         0.041527  \n",
       "min         0.000000  \n",
       "25%         0.000000  \n",
       "50%         0.000000  \n",
       "75%         0.000000  \n",
       "max         1.000000  \n",
       "\n",
       "[8 rows x 31 columns]"
      ]
     },
     "execution_count": 3,
     "metadata": {},
     "output_type": "execute_result"
    }
   ],
   "source": [
    "data.describe()"
   ]
  },
  {
   "cell_type": "markdown",
   "metadata": {},
   "source": [
    "Variables Time and Amount are the only variables that are not scaled, then we scale variable `Time' from seconds to hours time of day in hours"
   ]
  },
  {
   "cell_type": "code",
   "execution_count": 4,
   "metadata": {},
   "outputs": [
    {
     "data": {
      "text/plain": [
       "count    284807.000000\n",
       "mean         14.537951\n",
       "std           5.847061\n",
       "min           0.000000\n",
       "25%          10.598194\n",
       "50%          15.010833\n",
       "75%          19.329722\n",
       "max          23.999444\n",
       "Name: Time, dtype: float64"
      ]
     },
     "execution_count": 4,
     "metadata": {},
     "output_type": "execute_result"
    }
   ],
   "source": [
    "data.loc[:,\"Time\"] = data[\"Time\"].apply(lambda x : x / 3600 % 24)\n",
    "data[\"Time\"].describe()"
   ]
  },
  {
   "cell_type": "markdown",
   "metadata": {},
   "source": [
    "Since other variables than 'time' and 'amount' are the result from a PCA transformation it into standard-normal form. Then we transform variables 'time' and 'amount' into standard-normal form."
   ]
  },
  {
   "cell_type": "code",
   "execution_count": 5,
   "metadata": {},
   "outputs": [],
   "source": [
    "data['Time'] = StandardScaler().fit_transform(data['Time'].values.reshape(-1, 1))\n",
    "data['Amount'] = StandardScaler().fit_transform(data['Amount'].values.reshape(-1, 1))"
   ]
  },
  {
   "cell_type": "markdown",
   "metadata": {
    "colab_type": "text",
    "id": "e1o2BFzqx37g"
   },
   "source": [
    "**Calculating Imbalance Ratio (IR) of the dataset**"
   ]
  },
  {
   "cell_type": "code",
   "execution_count": 6,
   "metadata": {
    "colab": {},
    "colab_type": "code",
    "id": "1pJK-qUDx37h",
    "scrolled": true
   },
   "outputs": [
    {
     "name": "stdout",
     "output_type": "stream",
     "text": [
      "IR of the dataset is equal to 0.173% (only 492 frauds)\n"
     ]
    }
   ],
   "source": [
    "fraud_df = data[data.Class==1]\n",
    "normal_df = data[data.Class == 0] \n",
    "IR_data = (fraud_df.shape[0]/(data.shape[0]))*100\n",
    "print(f'IR of the dataset is equal to {round(IR_data,3)}% (only {fraud_df.shape[0]} frauds)')"
   ]
  },
  {
   "cell_type": "markdown",
   "metadata": {},
   "source": [
    "**Visual Exploration of Transaction Amount vs. Hour**"
   ]
  },
  {
   "cell_type": "code",
   "execution_count": 7,
   "metadata": {},
   "outputs": [
    {
     "data": {
      "image/png": "[encoded data removed]",
      "text/plain": [
       "<Figure size 432x288 with 1 Axes>"
      ]
     },
     "metadata": {
      "needs_background": "light"
     },
     "output_type": "display_data"
    }
   ],
   "source": [
    "plt.scatter(normal_df.Time, normal_df.Amount, alpha=0.6, label='Normal')\n",
    "plt.scatter(fraud_df.Time, fraud_df.Amount, alpha=0.9, label='Fraud')\n",
    "plt.title(\"Amount of transaction by hour\")\n",
    "plt.xlabel(\"Transaction time as measured from first transaction (hours)\")\n",
    "plt.ylabel('Amount')\n",
    "plt.legend(loc='upper right')\n",
    "plt.show()"
   ]
  },
  {
   "cell_type": "markdown",
   "metadata": {},
   "source": [
    "Variables Time and Amount do not seem to be correlated."
   ]
  },
  {
   "cell_type": "code",
   "execution_count": 9,
   "metadata": {
    "scrolled": true
   },
   "outputs": [
    {
     "name": "stdout",
     "output_type": "stream",
     "text": [
      "The dimension of x is: (283726, 29)\n",
      "The dimension of y is: (283726, 1)\n",
      "int64\n"
     ]
    }
   ],
   "source": [
    "def data_processing(data):\n",
    "    '''\n",
    "    This function clean the dataset, drop NA and duplicated rows. \n",
    "    It converts features and target to numpy array\n",
    "    '''\n",
    "    data = data.dropna()\n",
    "    data = data.drop_duplicates()\n",
    "    data.columns = map(str.lower, data.columns)\n",
    "    feature = data.drop([\"time\", \"class\"], axis=1)\n",
    "    cols_names = list(feature)\n",
    "    x = feature.values # to numpy array \n",
    "    y = data[\"class\"].values # to numpy array\n",
    "    y = np.expand_dims(y, axis=1)\n",
    "    return x, y, cols_names\n",
    "\n",
    "x, y, cols_names = data_processing(data)\n",
    "\n",
    "print(f'The dimension of x is: {x.shape}')\n",
    "print(f'The dimension of y is: {y.shape}' )\n",
    "print(y.dtype)"
   ]
  },
  {
   "cell_type": "markdown",
   "metadata": {},
   "source": [
    "Calculating Imbalance Ratio (IR) of the dataset after processing"
   ]
  },
  {
   "cell_type": "code",
   "execution_count": 10,
   "metadata": {},
   "outputs": [
    {
     "name": "stdout",
     "output_type": "stream",
     "text": [
      "IR of processed dataset is equal to 0.167% (only 473) frauds\n"
     ]
    }
   ],
   "source": [
    "frauds = y[(y==1)]\n",
    "frauds = np.expand_dims(frauds, axis=1)\n",
    "\n",
    "normal = y[(y==0)]\n",
    "normal = np.expand_dims(normal, axis=1)\n",
    "\n",
    "IR_after_processing = (frauds.shape[0]/(frauds.shape[0]+normal.shape[0]))*100\n",
    "print(f'IR of processed dataset is equal to {round(IR_after_processing ,3)}% (only {frauds.shape[0]}) frauds')"
   ]
  },
  {
   "cell_type": "markdown",
   "metadata": {},
   "source": [
    "We have only 473 frauds samples after processing the data. We use stratified k-fold cross validation with k=5 and save train and test datasets for each fold that will be used in our analysis. This is done with the intuition to avoid overfitting and to preserve the IR of the original dataset.\n"
   ]
  },
  {
   "cell_type": "code",
   "execution_count": 11,
   "metadata": {},
   "outputs": [
    {
     "name": "stdout",
     "output_type": "stream",
     "text": [
      "Fold #1\n",
      ">Train: 0=226602, 1=378, IR=0.167, Test: 0=56651, 1=95, IR=0.167\n",
      "(226980, 29)\n",
      "(226980, 1)\n",
      "(56746, 29)\n",
      "(56746, 1)\n",
      "Fold #2\n",
      ">Train: 0=226602, 1=379, IR=0.167, Test: 0=56651, 1=94, IR=0.166\n",
      "(226981, 29)\n",
      "(226981, 1)\n",
      "(56745, 29)\n",
      "(56745, 1)\n",
      "Fold #3\n",
      ">Train: 0=226602, 1=379, IR=0.167, Test: 0=56651, 1=94, IR=0.166\n",
      "(226981, 29)\n",
      "(226981, 1)\n",
      "(56745, 29)\n",
      "(56745, 1)\n",
      "Fold #4\n",
      ">Train: 0=226603, 1=378, IR=0.167, Test: 0=56650, 1=95, IR=0.167\n",
      "(226981, 29)\n",
      "(226981, 1)\n",
      "(56745, 29)\n",
      "(56745, 1)\n",
      "Fold #5\n",
      ">Train: 0=226603, 1=378, IR=0.167, Test: 0=56650, 1=95, IR=0.167\n",
      "(226981, 29)\n",
      "(226981, 1)\n",
      "(56745, 29)\n",
      "(56745, 1)\n"
     ]
    }
   ],
   "source": [
    "kfold = StratifiedKFold(n_splits=5, shuffle=True, random_state=random_seed)\n",
    "\n",
    "fold = 0\n",
    "for train_ix, test_ix in kfold.split(x, y):\n",
    "    fold+=1\n",
    "    print(f\"Fold #{fold}\")\n",
    "    # select rows\n",
    "    x_train, x_test = x[train_ix], x[test_ix]\n",
    "    y_train, y_test = y[train_ix], y[test_ix]\n",
    "    \n",
    "    # summarize train and test composition\n",
    "    train_0_len, train_1_len = len(y_train[y_train==0]), len(y_train[y_train==1])\n",
    "    total_train_len = (train_0_len + train_1_len)\n",
    "    ir_train = train_1_len/total_train_len*100\n",
    "    test_0_len, test_1_len = len(y_test[y_test==0]), len(y_test[y_test==1])\n",
    "    total_test_len = (test_0_len + test_1_len)\n",
    "    ir_test = test_1_len/total_test_len*100\n",
    "    print('>Train: 0=%d, 1=%d, IR=%.3f, Test: 0=%d, 1=%d, IR=%.3f' % \n",
    "          (train_0_len, train_1_len, ir_train, test_0_len, test_1_len, ir_test))\n",
    "    print(x_train.shape)\n",
    "    print(y_train.shape)\n",
    "    print(x_test.shape)\n",
    "    print(y_test.shape)\n",
    "    # save to csv file\n",
    "    np.savetxt(f'x_train_fold{str(fold)}.csv', x_train, delimiter=',')\n",
    "    np.savetxt(f'x_test_fold{str(fold)}.csv', x_test, delimiter=',')\n",
    "    np.savetxt(f'y_train_fold{str(fold)}.csv', y_train, delimiter=',')\n",
    "    np.savetxt(f'y_test_fold{str(fold)}.csv', y_test, delimiter=',')"
   ]
  },
  {
   "cell_type": "markdown",
   "metadata": {},
   "source": [
    "### 1.2 Outlier detection"
   ]
  },
  {
   "cell_type": "code",
   "execution_count": null,
   "metadata": {},
   "outputs": [],
   "source": [
    "feature = data.drop(\"Class\", axis=1)\n",
    "cols_names = list(feature)\n",
    "cols_names"
   ]
  },
  {
   "cell_type": "markdown",
   "metadata": {},
   "source": [
    "**Fold 1**"
   ]
  },
  {
   "cell_type": "code",
   "execution_count": 12,
   "metadata": {},
   "outputs": [],
   "source": [
    "x_train1 = np.loadtxt('x_train_fold1.csv', delimiter=',')\n",
    "y_train1 = np.loadtxt('y_train_fold1.csv', dtype='int32', delimiter=',')\n",
    "y_train1 = y_train1.reshape(-1,1)\n",
    "x_test1 = np.loadtxt('x_test_fold1.csv', delimiter=',')\n",
    "y_test1 = np.loadtxt('y_test_fold1.csv', dtype='int32', delimiter=',') \n",
    "y_test1 = y_test1.reshape(-1,1)"
   ]
  },
  {
   "cell_type": "code",
   "execution_count": 13,
   "metadata": {},
   "outputs": [
    {
     "name": "stdout",
     "output_type": "stream",
     "text": [
      ">Train: 0=226602, 1=378, IR=0.167\n"
     ]
    }
   ],
   "source": [
    "# summarize train and test composition\n",
    "train_0_len, train_1_len = len(y_train1[y_train1==0]), len(y_train1[y_train1==1])\n",
    "total_train_len = (train_0_len + train_1_len)\n",
    "ir_train = train_1_len/total_train_len*100\n",
    "\n",
    "print('>Train: 0=%d, 1=%d, IR=%.3f' % \n",
    "      (train_0_len, train_1_len, ir_train))"
   ]
  },
  {
   "cell_type": "code",
   "execution_count": 14,
   "metadata": {},
   "outputs": [],
   "source": [
    "# identify outliers in the training dataset\n",
    "iso1 = IsolationForest(contamination=0.0005, random_state=random_seed)\n",
    "yhat1 = iso1.fit_predict(x_train1)\n",
    "# select all rows that are not outliers\n",
    "mask1 = yhat1 != -1\n",
    "x_train1, y_train1 = x_train1[mask1, :], y_train1[mask1]"
   ]
  },
  {
   "cell_type": "code",
   "execution_count": 15,
   "metadata": {},
   "outputs": [
    {
     "name": "stdout",
     "output_type": "stream",
     "text": [
      ">Train: 0=226527, 1=339, IR=0.149\n"
     ]
    }
   ],
   "source": [
    "# summarize train and test composition after remove outliers\n",
    "train_0_len, train_1_len = len(y_train1[y_train1==0]), len(y_train1[y_train1==1])\n",
    "total_train_len = (train_0_len + train_1_len)\n",
    "ir_train = train_1_len/total_train_len*100\n",
    "\n",
    "print('>Train: 0=%d, 1=%d, IR=%.3f' % \n",
    "      (train_0_len, train_1_len, ir_train))"
   ]
  },
  {
   "cell_type": "code",
   "execution_count": 16,
   "metadata": {},
   "outputs": [],
   "source": [
    "# save to csv file\n",
    "np.savetxt(f'x_train1_outlierTreatment.csv', x_train1, delimiter=',')\n",
    "np.savetxt(f'y_train1_outlierTreatment.csv', y_train1, delimiter=',')"
   ]
  },
  {
   "cell_type": "markdown",
   "metadata": {},
   "source": [
    "**Fold 2**"
   ]
  },
  {
   "cell_type": "code",
   "execution_count": 17,
   "metadata": {},
   "outputs": [],
   "source": [
    "x_train2 = np.loadtxt('x_train_fold2.csv', delimiter=',')\n",
    "y_train2 = np.loadtxt('y_train_fold2.csv', dtype='int32', delimiter=',')\n",
    "y_train2 = y_train2.reshape(-1,1)\n",
    "x_test2 = np.loadtxt('x_test_fold2.csv', delimiter=',')\n",
    "y_test2 = np.loadtxt('y_test_fold2.csv', dtype='int32', delimiter=',') \n",
    "y_test2 = y_test2.reshape(-1,1)"
   ]
  },
  {
   "cell_type": "code",
   "execution_count": 18,
   "metadata": {},
   "outputs": [
    {
     "name": "stdout",
     "output_type": "stream",
     "text": [
      ">Train: 0=226602, 1=379, IR=0.167\n"
     ]
    }
   ],
   "source": [
    "# summarize train and test composition \n",
    "train_0_len, train_1_len = len(y_train2[y_train2==0]), len(y_train2[y_train2==1])\n",
    "total_train_len = (train_0_len + train_1_len)\n",
    "ir_train = train_1_len/total_train_len*100\n",
    "\n",
    "print('>Train: 0=%d, 1=%d, IR=%.3f' % \n",
    "      (train_0_len, train_1_len, ir_train))"
   ]
  },
  {
   "cell_type": "code",
   "execution_count": 19,
   "metadata": {},
   "outputs": [],
   "source": [
    "# identify outliers in the training dataset\n",
    "iso2 = IsolationForest(contamination=0.0005, random_state=random_seed)\n",
    "yhat2 = iso2.fit_predict(x_train2)\n",
    "# select all rows that are not outliers\n",
    "mask2 = yhat2 != -1\n",
    "x_train2, y_train2 = x_train2[mask2, :], y_train2[mask2]"
   ]
  },
  {
   "cell_type": "code",
   "execution_count": 20,
   "metadata": {},
   "outputs": [
    {
     "name": "stdout",
     "output_type": "stream",
     "text": [
      ">Train: 0=226517, 1=350, IR=0.154\n"
     ]
    }
   ],
   "source": [
    "# summarize train and test composition after remove outliers\n",
    "train_0_len, train_1_len = len(y_train2[y_train2==0]), len(y_train2[y_train2==1])\n",
    "total_train_len = (train_0_len + train_1_len)\n",
    "ir_train = train_1_len/total_train_len*100\n",
    "\n",
    "print('>Train: 0=%d, 1=%d, IR=%.3f' % \n",
    "      (train_0_len, train_1_len, ir_train))"
   ]
  },
  {
   "cell_type": "code",
   "execution_count": 21,
   "metadata": {},
   "outputs": [],
   "source": [
    "# save to csv file\n",
    "np.savetxt(f'x_train2_outlierTreatment.csv', x_train2, delimiter=',')\n",
    "np.savetxt(f'y_train2_outlierTreatment.csv', y_train2, delimiter=',')"
   ]
  },
  {
   "cell_type": "markdown",
   "metadata": {},
   "source": [
    "**Fold 3**"
   ]
  },
  {
   "cell_type": "code",
   "execution_count": 22,
   "metadata": {},
   "outputs": [],
   "source": [
    "x_train3 = np.loadtxt('x_train_fold3.csv', delimiter=',')\n",
    "y_train3 = np.loadtxt('y_train_fold3.csv', dtype='int32', delimiter=',')\n",
    "y_train3 = y_train3.reshape(-1,1)\n",
    "x_test3 = np.loadtxt('x_test_fold3.csv', delimiter=',')\n",
    "y_test3 = np.loadtxt('y_test_fold3.csv', dtype='int32', delimiter=',') \n",
    "y_test3 = y_test3.reshape(-1,1)"
   ]
  },
  {
   "cell_type": "code",
   "execution_count": 23,
   "metadata": {},
   "outputs": [
    {
     "name": "stdout",
     "output_type": "stream",
     "text": [
      ">Train: 0=226602, 1=379, IR=0.167\n"
     ]
    }
   ],
   "source": [
    "# summarize train and test composition \n",
    "train_0_len, train_1_len = len(y_train3[y_train3==0]), len(y_train3[y_train3==1])\n",
    "total_train_len = (train_0_len + train_1_len)\n",
    "ir_train = train_1_len/total_train_len*100\n",
    "\n",
    "print('>Train: 0=%d, 1=%d, IR=%.3f' % \n",
    "      (train_0_len, train_1_len, ir_train))"
   ]
  },
  {
   "cell_type": "code",
   "execution_count": 24,
   "metadata": {},
   "outputs": [],
   "source": [
    "# identify outliers in the training dataset\n",
    "iso3 = IsolationForest(contamination=0.0005, random_state=random_seed)\n",
    "yhat3 = iso3.fit_predict(x_train3)\n",
    "# select all rows that are not outliers\n",
    "mask3 = yhat3 != -1\n",
    "x_train3, y_train3 = x_train3[mask3, :], y_train3[mask3]"
   ]
  },
  {
   "cell_type": "code",
   "execution_count": 25,
   "metadata": {},
   "outputs": [
    {
     "name": "stdout",
     "output_type": "stream",
     "text": [
      ">Train: 0=226514, 1=353, IR=0.156\n"
     ]
    }
   ],
   "source": [
    "# summarize train and test composition\n",
    "train_0_len, train_1_len = len(y_train3[y_train3==0]), len(y_train3[y_train3==1])\n",
    "total_train_len = (train_0_len + train_1_len)\n",
    "ir_train = train_1_len/total_train_len*100\n",
    "\n",
    "print('>Train: 0=%d, 1=%d, IR=%.3f' % \n",
    "      (train_0_len, train_1_len, ir_train))"
   ]
  },
  {
   "cell_type": "code",
   "execution_count": 26,
   "metadata": {},
   "outputs": [],
   "source": [
    "# save to csv file\n",
    "np.savetxt(f'x_train3_outlierTreatment.csv', x_train3, delimiter=',')\n",
    "np.savetxt(f'y_train3_outlierTreatment.csv', y_train3, delimiter=',')"
   ]
  },
  {
   "cell_type": "markdown",
   "metadata": {},
   "source": [
    "**Fold 4**"
   ]
  },
  {
   "cell_type": "code",
   "execution_count": 27,
   "metadata": {},
   "outputs": [],
   "source": [
    "x_train4 = np.loadtxt('x_train_fold4.csv', delimiter=',')\n",
    "y_train4 = np.loadtxt('y_train_fold4.csv', dtype='int32', delimiter=',')\n",
    "y_train4 = y_train4.reshape(-1,1)\n",
    "x_test4 = np.loadtxt('x_test_fold4.csv', delimiter=',')\n",
    "y_test4 = np.loadtxt('y_test_fold4.csv', dtype='int32', delimiter=',') \n",
    "y_test4 = y_test4.reshape(-1,1)"
   ]
  },
  {
   "cell_type": "code",
   "execution_count": 28,
   "metadata": {},
   "outputs": [
    {
     "name": "stdout",
     "output_type": "stream",
     "text": [
      ">Train: 0=226603, 1=378, IR=0.167\n"
     ]
    }
   ],
   "source": [
    "# summarize train and test composition \n",
    "train_0_len, train_1_len = len(y_train4[y_train4==0]), len(y_train4[y_train4==1])\n",
    "total_train_len = (train_0_len + train_1_len)\n",
    "ir_train = train_1_len/total_train_len*100\n",
    "\n",
    "print('>Train: 0=%d, 1=%d, IR=%.3f' % \n",
    "      (train_0_len, train_1_len, ir_train))"
   ]
  },
  {
   "cell_type": "code",
   "execution_count": 29,
   "metadata": {},
   "outputs": [],
   "source": [
    "# identify outliers in the training dataset\n",
    "iso4 = IsolationForest(contamination=0.0005, random_state=random_seed)\n",
    "yhat4 = iso4.fit_predict(x_train4)\n",
    "# select all rows that are not outliers\n",
    "mask4 = yhat4 != -1\n",
    "x_train4, y_train4 = x_train4[mask4, :], y_train4[mask4]"
   ]
  },
  {
   "cell_type": "code",
   "execution_count": 30,
   "metadata": {},
   "outputs": [
    {
     "name": "stdout",
     "output_type": "stream",
     "text": [
      ">Train: 0=226526, 1=341, IR=0.150\n"
     ]
    }
   ],
   "source": [
    "# summarize train and test composition\n",
    "train_0_len, train_1_len = len(y_train4[y_train4==0]), len(y_train4[y_train4==1])\n",
    "total_train_len = (train_0_len + train_1_len)\n",
    "ir_train = train_1_len/total_train_len*100\n",
    "\n",
    "print('>Train: 0=%d, 1=%d, IR=%.3f' % \n",
    "      (train_0_len, train_1_len, ir_train))"
   ]
  },
  {
   "cell_type": "code",
   "execution_count": 31,
   "metadata": {},
   "outputs": [],
   "source": [
    "# save to csv file\n",
    "np.savetxt(f'x_train4_outlierTreatment.csv', x_train4, delimiter=',')\n",
    "np.savetxt(f'y_train4_outlierTreatment.csv', y_train4, delimiter=',')"
   ]
  },
  {
   "cell_type": "markdown",
   "metadata": {},
   "source": [
    "**Fold 5**"
   ]
  },
  {
   "cell_type": "code",
   "execution_count": 32,
   "metadata": {},
   "outputs": [],
   "source": [
    "x_train5 = np.loadtxt('x_train_fold5.csv', delimiter=',')\n",
    "y_train5 = np.loadtxt('y_train_fold5.csv', dtype='int32', delimiter=',')\n",
    "y_train5 = y_train5.reshape(-1,1)\n",
    "x_test5 = np.loadtxt('x_test_fold5.csv', delimiter=',')\n",
    "y_test5 = np.loadtxt('y_test_fold5.csv', dtype='int32', delimiter=',') \n",
    "y_test5 = y_test5.reshape(-1,1)"
   ]
  },
  {
   "cell_type": "code",
   "execution_count": 33,
   "metadata": {},
   "outputs": [
    {
     "name": "stdout",
     "output_type": "stream",
     "text": [
      ">Train: 0=226603, 1=378, IR=0.167\n"
     ]
    }
   ],
   "source": [
    "# summarize train and test composition \n",
    "train_0_len, train_1_len = len(y_train5[y_train5==0]), len(y_train5[y_train5==1])\n",
    "total_train_len = (train_0_len + train_1_len)\n",
    "ir_train = train_1_len/total_train_len*100\n",
    "\n",
    "print('>Train: 0=%d, 1=%d, IR=%.3f' % \n",
    "      (train_0_len, train_1_len, ir_train))"
   ]
  },
  {
   "cell_type": "code",
   "execution_count": 34,
   "metadata": {},
   "outputs": [],
   "source": [
    "# identify outliers in the training dataset\n",
    "iso5 = IsolationForest(contamination=0.0005, random_state=random_seed)\n",
    "yhat5 = iso5.fit_predict(x_train5)\n",
    "# select all rows that are not outliers\n",
    "mask5 = yhat5 != -1\n",
    "x_train5, y_train5 = x_train5[mask5, :], y_train5[mask5]"
   ]
  },
  {
   "cell_type": "code",
   "execution_count": 35,
   "metadata": {},
   "outputs": [
    {
     "name": "stdout",
     "output_type": "stream",
     "text": [
      ">Train: 0=226526, 1=341, IR=0.150\n"
     ]
    }
   ],
   "source": [
    "# summarize train and test composition\n",
    "train_0_len, train_1_len = len(y_train5[y_train5==0]), len(y_train5[y_train5==1])\n",
    "total_train_len = (train_0_len + train_1_len)\n",
    "ir_train = train_1_len/total_train_len*100\n",
    "\n",
    "print('>Train: 0=%d, 1=%d, IR=%.3f' % \n",
    "      (train_0_len, train_1_len, ir_train))"
   ]
  },
  {
   "cell_type": "code",
   "execution_count": 36,
   "metadata": {},
   "outputs": [],
   "source": [
    "# save to csv file\n",
    "np.savetxt(f'x_train5_outlierTreatment.csv', x_train5, delimiter=',')\n",
    "np.savetxt(f'y_train5_outlierTreatment.csv', y_train5, delimiter=',')"
   ]
  },
  {
   "cell_type": "code",
   "execution_count": null,
   "metadata": {},
   "outputs": [],
   "source": []
  },
  {
   "cell_type": "code",
   "execution_count": null,
   "metadata": {},
   "outputs": [],
   "source": []
  }
 ],
 "metadata": {
  "colab": {
   "collapsed_sections": [],
   "name": "Memoire_GAN.ipynb",
   "provenance": []
  },
  "kernelspec": {
   "display_name": "Python 3",
   "language": "python",
   "name": "python3"
  },
  "language_info": {
   "codemirror_mode": {
    "name": "ipython",
    "version": 3
   },
   "file_extension": ".py",
   "mimetype": "text/x-python",
   "name": "python",
   "nbconvert_exporter": "python",
   "pygments_lexer": "ipython3",
   "version": "3.7.9"
  }
 },
 "nbformat": 4,
 "nbformat_minor": 4
}
